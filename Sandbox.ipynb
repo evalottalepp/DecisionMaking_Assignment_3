{
 "cells": [
  {
   "cell_type": "code",
   "execution_count": 2,
   "metadata": {},
   "outputs": [],
   "source": [
    "import pandas as pd\n",
    "import numpy as np\n",
    "\n",
    "\n",
    "class demandFile():\n",
    "    def __init__(self,path):\n",
    "        self.demandFile = pd.read_excel(path)\n",
    "        \n",
    "        supplyDemandCap = self.demandFile\n",
    "        supplyCols = [col for col in supplyDemandCap if col.startswith('Supply')]\n",
    "        demandCols = [col for col in supplyDemandCap if col.startswith('Demand')]\n",
    "\n",
    "        self.supply = supplyDemandCap[supplyCols ].dropna(axis=0, how='all').fillna(0).to_numpy()\n",
    "        self.P = [i for i in range(len(self.supply))]\n",
    "        \n",
    "        self.capacity = supplyDemandCap[~supplyDemandCap['Capacity'].isna()].dropna(axis=1)['Capacity'].fillna(0).to_numpy()\n",
    "        self.W = [i for i in range(len(self.capacity))]\n",
    "        self.capacity = np.concatenate((np.zeros(len(self.supply)), self.capacity))\n",
    "\n",
    "        self.demand = supplyDemandCap[demandCols].dropna(axis=0, how='all').to_numpy()\n",
    "        self.U = [i for i in range(len(self.demand))]\n",
    "        self.demand = np.concatenate((np.zeros([len(self.supply) + len(self.capacity),len(self.demand[0])]), self.demand))\n",
    "\n",
    "        \n",
    "\n",
    "        \n",
    "        \n",
    "    \n",
    "\n",
    "    def printFile(self):\n",
    "        print(self.demandFile)\n",
    "\n",
    "class fixedCost():\n",
    "    def __init__(self,path):\n",
    "        self.fixedCost = pd.read_excel(path)\n",
    "\n",
    "class varCost():\n",
    "    def __init__(self,path):\n",
    "        self.varCost = pd.read_excel(path)\n",
    "    def __repr__(self):\n",
    "        return print(self.varCost)\n",
    "    def __str__(self):\n",
    "        return 'file'\n",
    "        \n"
   ]
  },
  {
   "cell_type": "code",
   "execution_count": 16,
   "metadata": {},
   "outputs": [],
   "source": [
    "data = demandFile('./given_data/demanddata.xlsx')\n",
    "f = fixedCost('./given_data/fixedcosts.xlsx')\n",
    "c = varCost('./given_data/variablecosts.xlsx')"
   ]
  },
  {
   "cell_type": "code",
   "execution_count": 17,
   "metadata": {},
   "outputs": [
    {
     "name": "stdout",
     "output_type": "stream",
     "text": [
      "   Location        P1        P2        P3        W1        W2        C1  \\\n",
      "0        P1  0.000000  1.711221  1.940647  0.475508  2.790059  0.608913   \n",
      "1        P2  1.711221  0.000000  0.807409  1.963652  1.166932  1.953046   \n",
      "2        P3  1.940647  0.807409  0.000000  2.006179  0.996193  1.928211   \n",
      "3        W1  0.475508  1.963652  2.006179  0.000000  2.940381  0.169892   \n",
      "4        W2  2.790059  1.166932  0.996193  2.940381  0.000000  2.882938   \n",
      "5        C1  0.608913  1.953046  1.928211  0.169892  2.882938  0.000000   \n",
      "6        C2  1.759264  0.549164  1.356569  2.115783  1.537116  2.148395   \n",
      "7        C3  0.445264  1.389438  1.511896  0.575197  2.400265  0.590485   \n",
      "8        U1  3.166204  1.455472  1.641625  3.404828  0.753516  3.377803   \n",
      "9        U2  2.182064  1.466870  0.674636  2.096352  1.431539  1.972831   \n",
      "10       U3  1.200607  0.973855  1.657976  1.627257  2.124732  1.702316   \n",
      "11       U4  2.180878  1.200779  0.394252  2.168935  1.105604  2.065347   \n",
      "12       U5  1.957716  1.261546  2.066849  2.397237  2.184169  2.475471   \n",
      "\n",
      "          C2        C3        U1          U2        U3        U4        U5  \n",
      "0   1.759264  0.445264  3.166204    2.182064  1.200607  2.180878  1.957716  \n",
      "1   0.549164  1.389438  1.455472    1.466870  0.973855  1.200779  1.261546  \n",
      "2   1.356569  1.511896  1.641625    0.674636  1.657976  0.394252  2.066849  \n",
      "3   2.115783  0.575197  3.404828    2.096352  1.627257  2.168935  2.397237  \n",
      "4   1.537116  2.400265  0.753516    1.431539  2.124732  1.105604  2.184169  \n",
      "5   2.148395  0.590485  3.377803    1.972831  1.702316  2.065347  2.475471  \n",
      "6   0.000000  1.557913  1.574292    2.012378  0.682276  1.749849  0.716137  \n",
      "7   1.557913  0.000000  2.835278    1.738055  1.143664  1.737787  1.913784  \n",
      "8   1.574292  2.835278  0.000000    2.165900  2.251341  1.831602  2.041118  \n",
      "9   2.012378  1.738055  2.165900  100.000000  2.216837  0.338312  2.711520  \n",
      "10  0.682276  1.143664  2.251341    2.216837  0.000000  2.034835  0.773266  \n",
      "11  1.749849  1.737787  1.831602    0.338312  2.034835  0.000000  2.460996  \n",
      "12  0.716137  1.913784  2.041118    2.711520  0.773266  2.460996  0.000000  \n"
     ]
    },
    {
     "ename": "TypeError",
     "evalue": "__repr__ returned non-string (type NoneType)",
     "output_type": "error",
     "traceback": [
      "\u001b[1;31m---------------------------------------------------------------------------\u001b[0m",
      "\u001b[1;31mTypeError\u001b[0m                                 Traceback (most recent call last)",
      "File \u001b[1;32mc:\\Users\\ecarg\\anaconda3\\Lib\\site-packages\\IPython\\core\\formatters.py:711\u001b[0m, in \u001b[0;36mPlainTextFormatter.__call__\u001b[1;34m(self, obj)\u001b[0m\n\u001b[0;32m    704\u001b[0m stream \u001b[38;5;241m=\u001b[39m StringIO()\n\u001b[0;32m    705\u001b[0m printer \u001b[38;5;241m=\u001b[39m pretty\u001b[38;5;241m.\u001b[39mRepresentationPrinter(stream, \u001b[38;5;28mself\u001b[39m\u001b[38;5;241m.\u001b[39mverbose,\n\u001b[0;32m    706\u001b[0m     \u001b[38;5;28mself\u001b[39m\u001b[38;5;241m.\u001b[39mmax_width, \u001b[38;5;28mself\u001b[39m\u001b[38;5;241m.\u001b[39mnewline,\n\u001b[0;32m    707\u001b[0m     max_seq_length\u001b[38;5;241m=\u001b[39m\u001b[38;5;28mself\u001b[39m\u001b[38;5;241m.\u001b[39mmax_seq_length,\n\u001b[0;32m    708\u001b[0m     singleton_pprinters\u001b[38;5;241m=\u001b[39m\u001b[38;5;28mself\u001b[39m\u001b[38;5;241m.\u001b[39msingleton_printers,\n\u001b[0;32m    709\u001b[0m     type_pprinters\u001b[38;5;241m=\u001b[39m\u001b[38;5;28mself\u001b[39m\u001b[38;5;241m.\u001b[39mtype_printers,\n\u001b[0;32m    710\u001b[0m     deferred_pprinters\u001b[38;5;241m=\u001b[39m\u001b[38;5;28mself\u001b[39m\u001b[38;5;241m.\u001b[39mdeferred_printers)\n\u001b[1;32m--> 711\u001b[0m printer\u001b[38;5;241m.\u001b[39mpretty(obj)\n\u001b[0;32m    712\u001b[0m printer\u001b[38;5;241m.\u001b[39mflush()\n\u001b[0;32m    713\u001b[0m \u001b[38;5;28;01mreturn\u001b[39;00m stream\u001b[38;5;241m.\u001b[39mgetvalue()\n",
      "File \u001b[1;32mc:\\Users\\ecarg\\anaconda3\\Lib\\site-packages\\IPython\\lib\\pretty.py:419\u001b[0m, in \u001b[0;36mRepresentationPrinter.pretty\u001b[1;34m(self, obj)\u001b[0m\n\u001b[0;32m    408\u001b[0m                         \u001b[38;5;28;01mreturn\u001b[39;00m meth(obj, \u001b[38;5;28mself\u001b[39m, cycle)\n\u001b[0;32m    409\u001b[0m                 \u001b[38;5;28;01mif\u001b[39;00m (\n\u001b[0;32m    410\u001b[0m                     \u001b[38;5;28mcls\u001b[39m \u001b[38;5;129;01mis\u001b[39;00m \u001b[38;5;129;01mnot\u001b[39;00m \u001b[38;5;28mobject\u001b[39m\n\u001b[0;32m    411\u001b[0m                     \u001b[38;5;66;03m# check if cls defines __repr__\u001b[39;00m\n\u001b[1;32m   (...)\u001b[0m\n\u001b[0;32m    417\u001b[0m                     \u001b[38;5;129;01mand\u001b[39;00m \u001b[38;5;28mcallable\u001b[39m(_safe_getattr(\u001b[38;5;28mcls\u001b[39m, \u001b[38;5;124m\"\u001b[39m\u001b[38;5;124m__repr__\u001b[39m\u001b[38;5;124m\"\u001b[39m, \u001b[38;5;28;01mNone\u001b[39;00m))\n\u001b[0;32m    418\u001b[0m                 ):\n\u001b[1;32m--> 419\u001b[0m                     \u001b[38;5;28;01mreturn\u001b[39;00m _repr_pprint(obj, \u001b[38;5;28mself\u001b[39m, cycle)\n\u001b[0;32m    421\u001b[0m     \u001b[38;5;28;01mreturn\u001b[39;00m _default_pprint(obj, \u001b[38;5;28mself\u001b[39m, cycle)\n\u001b[0;32m    422\u001b[0m \u001b[38;5;28;01mfinally\u001b[39;00m:\n",
      "File \u001b[1;32mc:\\Users\\ecarg\\anaconda3\\Lib\\site-packages\\IPython\\lib\\pretty.py:787\u001b[0m, in \u001b[0;36m_repr_pprint\u001b[1;34m(obj, p, cycle)\u001b[0m\n\u001b[0;32m    785\u001b[0m \u001b[38;5;250m\u001b[39m\u001b[38;5;124;03m\"\"\"A pprint that just redirects to the normal repr function.\"\"\"\u001b[39;00m\n\u001b[0;32m    786\u001b[0m \u001b[38;5;66;03m# Find newlines and replace them with p.break_()\u001b[39;00m\n\u001b[1;32m--> 787\u001b[0m output \u001b[38;5;241m=\u001b[39m \u001b[38;5;28mrepr\u001b[39m(obj)\n\u001b[0;32m    788\u001b[0m lines \u001b[38;5;241m=\u001b[39m output\u001b[38;5;241m.\u001b[39msplitlines()\n\u001b[0;32m    789\u001b[0m \u001b[38;5;28;01mwith\u001b[39;00m p\u001b[38;5;241m.\u001b[39mgroup():\n",
      "\u001b[1;31mTypeError\u001b[0m: __repr__ returned non-string (type NoneType)"
     ]
    }
   ],
   "source": [
    "c.varCost.loc[9,'U2'] = 100\n",
    "c"
   ]
  },
  {
   "cell_type": "code",
   "execution_count": 93,
   "metadata": {},
   "outputs": [
    {
     "data": {
      "text/plain": [
       "array([[0., 0., 0.],\n",
       "       [0., 0., 0.],\n",
       "       [0., 0., 0.]])"
      ]
     },
     "execution_count": 93,
     "metadata": {},
     "output_type": "execute_result"
    }
   ],
   "source": [
    "np.zeros([3,3])"
   ]
  },
  {
   "cell_type": "code",
   "execution_count": 96,
   "metadata": {},
   "outputs": [
    {
     "data": {
      "text/plain": [
       "array([[  0.,   0.,   0.,   0.,   0.,   0.],\n",
       "       [  0.,   0.,   0.,   0.,   0.,   0.],\n",
       "       [  0.,   0.,   0.,   0.,   0.,   0.],\n",
       "       [  0.,   0.,   0.,   0.,   0.,   0.],\n",
       "       [  0.,   0.,   0.,   0.,   0.,   0.],\n",
       "       [  0.,   0.,   0.,   0.,   0.,   0.],\n",
       "       [  0.,   0.,   0.,   0.,   0.,   0.],\n",
       "       [  0.,   0.,   0.,   0.,   0.,   0.],\n",
       "       [  0.,   0.,   0.,   0.,   0.,   0.],\n",
       "       [  0.,   0.,   0.,   0.,   0.,   0.],\n",
       "       [  0.,   0.,   0.,   0.,   0.,   0.],\n",
       "       [ 30.,   0., 100.,   0.,   5.,  20.],\n",
       "       [ 20.,  10.,   0.,  50.,  15.,  20.],\n",
       "       [  0.,  10.,   0.,  50.,  10.,  20.],\n",
       "       [ 10.,  10.,   0.,   0.,  25.,  20.],\n",
       "       [ 40.,  20.,   0.,   0.,  40.,  20.]])"
      ]
     },
     "execution_count": 96,
     "metadata": {},
     "output_type": "execute_result"
    }
   ],
   "source": [
    "data.demand"
   ]
  },
  {
   "cell_type": "code",
   "execution_count": 97,
   "metadata": {},
   "outputs": [
    {
     "data": {
      "text/plain": [
       "array([  0.,   0.,   0., 400., 300., 200., 300., 200.])"
      ]
     },
     "execution_count": 97,
     "metadata": {},
     "output_type": "execute_result"
    }
   ],
   "source": [
    "data.capacity"
   ]
  },
  {
   "cell_type": "code",
   "execution_count": 98,
   "metadata": {},
   "outputs": [
    {
     "data": {
      "text/plain": [
       "array([[100., 100.,   0.,   0.,   0.,   0.],\n",
       "       [  0.,   0., 100., 100., 100.,   0.],\n",
       "       [  0.,   0.,   0.,   0.,   0., 100.]])"
      ]
     },
     "execution_count": 98,
     "metadata": {},
     "output_type": "execute_result"
    }
   ],
   "source": [
    "data.supply"
   ]
  },
  {
   "cell_type": "code",
   "execution_count": 104,
   "metadata": {},
   "outputs": [
    {
     "data": {
      "text/plain": [
       "[0, 1, 2, 3, 4, 5, 6, 7, 8, 9, 10, 11, 12, 13, 14, 15]"
      ]
     },
     "execution_count": 105,
     "metadata": {},
     "output_type": "execute_result"
    }
   ],
   "source": [
    "K = [i for i in range(len(data.demand))]\n",
    "K"
   ]
  },
  {
   "cell_type": "code",
   "execution_count": 74,
   "metadata": {},
   "outputs": [
    {
     "name": "stdout",
     "output_type": "stream",
     "text": [
      "[5]\n"
     ]
    }
   ],
   "source": [
    "import itertools\n",
    "import numpy as np\n",
    "#print(list(itertools.permutations('56789', 5)))\n",
    "\n",
    "permutations = [''.join(sub) for sub in itertools.permutations('56789', 5)]  # all permutations of universities\n",
    "\n",
    "ordered_total_costs = dict.fromkeys(permutations, np.zeros(5))\n",
    "\n",
    "allP = [] \n",
    "for p in ordered_total_costs:\n",
    "    steps = [p[:i] for i in range(1, len(p) + 1)]\n",
    "    \n",
    "    # print(steps)\n",
    "    # for s in steps:\n",
    "    #     steps_int = [int(u) for u in np.array(s)]\n",
    "    #     print(steps_int)\n",
    "    #     for universities_in_tour in steps_int:\n",
    "    #         print(universities_in_tour)\n",
    "\n",
    "    allSubsections = []\n",
    "    for s in steps:\n",
    "        subList = []\n",
    "        for i in range(len(s)):\n",
    "            subList.append(int(s[i]))\n",
    "        allSubsections.append(subList)\n",
    "    allP.append(allSubsections)\n"
   ]
  },
  {
   "cell_type": "code",
   "execution_count": 91,
   "metadata": {},
   "outputs": [
    {
     "data": {
      "text/plain": [
       "array([[  0.,   0.,   0.,   0.,   0.,   0.],\n",
       "       [  0.,   0.,   0.,   0.,   0.,   0.],\n",
       "       [  0.,   0.,   0.,   0.,   0.,   0.],\n",
       "       [  0.,   0.,   0.,   0.,   0.,   0.],\n",
       "       [  0.,   0.,   0.,   0.,   0.,   0.],\n",
       "       [  0.,   0.,   0.,   0.,   0.,   0.],\n",
       "       [  0.,   0.,   0.,   0.,   0.,   0.],\n",
       "       [  0.,   0.,   0.,   0.,   0.,   0.],\n",
       "       [ 30.,   0., 100.,   0.,   5.,  20.],\n",
       "       [ 20.,  10.,   0.,  50.,  15.,  20.],\n",
       "       [  0.,  10.,   0.,  50.,  10.,  20.],\n",
       "       [ 10.,  10.,   0.,   0.,  25.,  20.],\n",
       "       [ 40.,  20.,   0.,   0.,  40.,  20.]])"
      ]
     },
     "execution_count": 91,
     "metadata": {},
     "output_type": "execute_result"
    }
   ],
   "source": [
    "demandData.demand"
   ]
  },
  {
   "cell_type": "code",
   "execution_count": 93,
   "metadata": {},
   "outputs": [
    {
     "data": {
      "text/plain": [
       "array([[0., 0., 0., 0., 0., 0.],\n",
       "       [0., 0., 0., 0., 0., 0.],\n",
       "       [0., 0., 0., 0., 0., 0.],\n",
       "       [0., 0., 0., 0., 0., 0.],\n",
       "       [0., 0., 0., 0., 0., 0.],\n",
       "       [0., 0., 0., 0., 0., 0.],\n",
       "       [0., 0., 0., 0., 0., 0.],\n",
       "       [0., 0., 0., 0., 0., 0.],\n",
       "       [0., 0., 0., 0., 0., 0.],\n",
       "       [0., 0., 0., 0., 0., 0.],\n",
       "       [0., 0., 0., 0., 0., 0.],\n",
       "       [0., 0., 0., 0., 0., 0.],\n",
       "       [0., 0., 0., 0., 0., 0.]])"
      ]
     },
     "execution_count": 93,
     "metadata": {},
     "output_type": "execute_result"
    }
   ],
   "source": [
    "np.zeros_like(demandData.demand)"
   ]
  },
  {
   "cell_type": "code",
   "execution_count": 97,
   "metadata": {},
   "outputs": [],
   "source": [
    "half = np.ones_like(demandData.demand)*0.5"
   ]
  },
  {
   "cell_type": "code",
   "execution_count": 98,
   "metadata": {},
   "outputs": [],
   "source": [
    "tens = np.array([[0., 0., 0., 0., 0., 0.],\n",
    "       [0., 0., 0., 0., 0., 0.],\n",
    "       [0., 0., 0., 0., 0., 0.],\n",
    "       [0., 0., 0., 0., 0., 0.],\n",
    "       [0., 0., 0., 0., 0., 0.],\n",
    "       [0., 0., 0., 0., 0., 0.],\n",
    "       [0., 0., 0., 0., 0., 0.],\n",
    "       [10., 10., 10., 10., 10., 10.],\n",
    "       [0., 0., 0., 0., 0., 0.],\n",
    "       [0., 0., 0., 0., 0., 0.],\n",
    "       [0., 0., 0., 0., 0., 0.],\n",
    "       [0., 0., 0., 0., 0., 0.],\n",
    "       [0., 0., 0., 0., 0., 0.]])"
   ]
  },
  {
   "cell_type": "code",
   "execution_count": 99,
   "metadata": {},
   "outputs": [
    {
     "data": {
      "text/plain": [
       "array([[0., 0., 0., 0., 0., 0.],\n",
       "       [0., 0., 0., 0., 0., 0.],\n",
       "       [0., 0., 0., 0., 0., 0.],\n",
       "       [0., 0., 0., 0., 0., 0.],\n",
       "       [0., 0., 0., 0., 0., 0.],\n",
       "       [0., 0., 0., 0., 0., 0.],\n",
       "       [0., 0., 0., 0., 0., 0.],\n",
       "       [5., 5., 5., 5., 5., 5.],\n",
       "       [0., 0., 0., 0., 0., 0.],\n",
       "       [0., 0., 0., 0., 0., 0.],\n",
       "       [0., 0., 0., 0., 0., 0.],\n",
       "       [0., 0., 0., 0., 0., 0.],\n",
       "       [0., 0., 0., 0., 0., 0.]])"
      ]
     },
     "execution_count": 99,
     "metadata": {},
     "output_type": "execute_result"
    }
   ],
   "source": [
    "tens * half"
   ]
  },
  {
   "cell_type": "code",
   "execution_count": 103,
   "metadata": {},
   "outputs": [
    {
     "data": {
      "text/plain": [
       "[5, 6, 7]"
      ]
     },
     "execution_count": 103,
     "metadata": {},
     "output_type": "execute_result"
    }
   ],
   "source": [
    "demandData.W[2:]"
   ]
  },
  {
   "cell_type": "code",
   "execution_count": 123,
   "metadata": {},
   "outputs": [],
   "source": [
    "varCost = pd.read_excel('./given_data/variablecosts.xlsx').iloc[:,1:].to_numpy()"
   ]
  },
  {
   "cell_type": "code",
   "execution_count": 125,
   "metadata": {},
   "outputs": [],
   "source": [
    "fixedCost = pd.read_excel('./given_data/fixedcosts.xlsx').to_numpy()\n"
   ]
  },
  {
   "cell_type": "code",
   "execution_count": 126,
   "metadata": {},
   "outputs": [
    {
     "data": {
      "text/plain": [
       "array([['P1', 12.5, 19.63008577301995, 20.586027923844426,\n",
       "        14.4812827494399, 24.12524615696096, 15.03713661132247,\n",
       "        19.830266518182388, 14.355268240455386, 25.692515671359217,\n",
       "        21.591933296470955, 17.50252855970261, 21.586991007514534,\n",
       "        20.657149137020514],\n",
       "       ['P2', 19.63008577301995, 12.5, 15.86420295379256,\n",
       "        20.68188207229072, 17.362218431873757, 20.637692807175586,\n",
       "        14.788181277265661, 18.289323938457287, 18.56446684742604,\n",
       "        18.611956717974937, 16.557731048950487, 17.503247772988324,\n",
       "        17.756442237342355],\n",
       "       ['P3', 20.586027923844426, 15.86420295379256, 12.5,\n",
       "        20.859080543744327, 16.650804629012406, 20.534213238575994,\n",
       "        18.152370599365515, 18.799565895181356, 19.340103715472036,\n",
       "        15.31098296891217, 19.40823142454645, 14.142714846067813,\n",
       "        21.111872824262896],\n",
       "       ['W1', 14.4812827494399, 20.68188207229072, 20.859080543744327,\n",
       "        12.5, 24.751585764964233, 13.207884367462533, 21.31576339698733,\n",
       "        14.896655141505688, 26.68678150299474, 21.23479898371933,\n",
       "        19.280236911726735, 21.537230993405277, 22.488488269940646],\n",
       "       ['W2', 24.12524615696096, 17.362218431873757, 16.650804629012406,\n",
       "        24.751585764964233, 12.5, 24.512240049179024, 18.904650345842555,\n",
       "        22.50110267457053, 15.639651761593775, 18.464744744370172,\n",
       "        21.35305027028395, 17.10668524092878, 21.60070293179539],\n",
       "       ['C1', 15.03713661132247, 20.637692807175586, 20.534213238575994,\n",
       "        13.207884367462533, 24.512240049179024, 12.5, 21.451646952717347,\n",
       "        14.960354403835503, 26.574177233946585, 20.72013003872548,\n",
       "        19.59298282944725, 21.105612750079096, 22.81446338897499],\n",
       "       ['C2', 19.830266518182388, 14.788181277265661, 18.152370599365515,\n",
       "        21.31576339698733, 18.904650345842555, 21.451646952717347, 12.5,\n",
       "        18.991305032176015, 19.05954915718661, 20.884906469597595,\n",
       "        15.342818520170429, 19.791039482875526, 15.483905393088271],\n",
       "       ['C3', 14.355268240455386, 18.289323938457287, 18.799565895181356,\n",
       "        14.896655141505688, 22.50110267457053, 14.960354403835503,\n",
       "        18.991305032176015, 12.5, 24.31365906100715, 19.741897634306543,\n",
       "        17.265266950307, 19.740780630678138, 20.47409821425081],\n",
       "       ['U1', 25.692515671359217, 18.56446684742604, 19.340103715472036,\n",
       "        26.68678150299474, 15.639651761593775, 26.574177233946585,\n",
       "        19.05954915718661, 24.31365906100715, 12.5, 21.524582270633452,\n",
       "        21.880589425073538, 20.131676213224623, 21.004657135073202],\n",
       "       ['U2', 21.591933296470955, 18.611956717974937, 15.31098296891217,\n",
       "        21.23479898371933, 18.464744744370172, 20.72013003872548,\n",
       "        20.884906469597595, 19.741897634306543, 21.524582270633452, 12.5,\n",
       "        21.73681908869679, 13.909631442173538, 23.798000177446717],\n",
       "       ['U3', 17.50252855970261, 16.557731048950487, 19.40823142454645,\n",
       "        19.280236911726735, 21.35305027028395, 19.59298282944725,\n",
       "        15.342818520170429, 17.265266950307, 21.880589425073538,\n",
       "        21.73681908869679, 12.5, 20.97847872472724, 15.721940466172503],\n",
       "       ['U4', 21.586991007514534, 17.503247772988324, 14.142714846067813,\n",
       "        21.537230993405277, 17.10668524092878, 21.105612750079096,\n",
       "        19.791039482875526, 19.740780630678138, 20.131676213224623,\n",
       "        13.909631442173538, 20.97847872472724, 12.5, 22.754151309703314],\n",
       "       ['U5', 20.657149137020514, 17.756442237342355, 21.111872824262896,\n",
       "        22.488488269940646, 21.60070293179539, 22.81446338897499,\n",
       "        15.483905393088271, 20.47409821425081, 21.004657135073202,\n",
       "        23.798000177446717, 15.721940466172503, 22.754151309703314, 12.5]],\n",
       "      dtype=object)"
      ]
     },
     "execution_count": 126,
     "metadata": {},
     "output_type": "execute_result"
    }
   ],
   "source": [
    "fixedCost"
   ]
  },
  {
   "cell_type": "code",
   "execution_count": 8,
   "metadata": {},
   "outputs": [
    {
     "data": {
      "text/html": [
       "<div>\n",
       "<style scoped>\n",
       "    .dataframe tbody tr th:only-of-type {\n",
       "        vertical-align: middle;\n",
       "    }\n",
       "\n",
       "    .dataframe tbody tr th {\n",
       "        vertical-align: top;\n",
       "    }\n",
       "\n",
       "    .dataframe thead th {\n",
       "        text-align: right;\n",
       "    }\n",
       "</style>\n",
       "<table border=\"1\" class=\"dataframe\">\n",
       "  <thead>\n",
       "    <tr style=\"text-align: right;\">\n",
       "      <th></th>\n",
       "      <th>0</th>\n",
       "      <th>1</th>\n",
       "      <th>2</th>\n",
       "      <th>3</th>\n",
       "      <th>4</th>\n",
       "      <th>5</th>\n",
       "    </tr>\n",
       "  </thead>\n",
       "  <tbody>\n",
       "    <tr>\n",
       "      <th>8</th>\n",
       "      <td>NaN</td>\n",
       "      <td>NaN</td>\n",
       "      <td>NaN</td>\n",
       "      <td>NaN</td>\n",
       "      <td>NaN</td>\n",
       "      <td>NaN</td>\n",
       "    </tr>\n",
       "    <tr>\n",
       "      <th>9</th>\n",
       "      <td>NaN</td>\n",
       "      <td>NaN</td>\n",
       "      <td>NaN</td>\n",
       "      <td>NaN</td>\n",
       "      <td>NaN</td>\n",
       "      <td>NaN</td>\n",
       "    </tr>\n",
       "    <tr>\n",
       "      <th>10</th>\n",
       "      <td>NaN</td>\n",
       "      <td>NaN</td>\n",
       "      <td>NaN</td>\n",
       "      <td>NaN</td>\n",
       "      <td>NaN</td>\n",
       "      <td>NaN</td>\n",
       "    </tr>\n",
       "    <tr>\n",
       "      <th>11</th>\n",
       "      <td>NaN</td>\n",
       "      <td>NaN</td>\n",
       "      <td>NaN</td>\n",
       "      <td>NaN</td>\n",
       "      <td>NaN</td>\n",
       "      <td>NaN</td>\n",
       "    </tr>\n",
       "    <tr>\n",
       "      <th>12</th>\n",
       "      <td>NaN</td>\n",
       "      <td>NaN</td>\n",
       "      <td>NaN</td>\n",
       "      <td>NaN</td>\n",
       "      <td>NaN</td>\n",
       "      <td>NaN</td>\n",
       "    </tr>\n",
       "  </tbody>\n",
       "</table>\n",
       "</div>"
      ],
      "text/plain": [
       "      0    1    2    3    4    5\n",
       "8   NaN  NaN  NaN  NaN  NaN  NaN\n",
       "9   NaN  NaN  NaN  NaN  NaN  NaN\n",
       "10  NaN  NaN  NaN  NaN  NaN  NaN\n",
       "11  NaN  NaN  NaN  NaN  NaN  NaN\n",
       "12  NaN  NaN  NaN  NaN  NaN  NaN"
      ]
     },
     "execution_count": 8,
     "metadata": {},
     "output_type": "execute_result"
    }
   ],
   "source": [
    "\n",
    "        suppliedBy = pd.DataFrame(index=self.demandData.U,columns=data.K)"
   ]
  },
  {
   "cell_type": "code",
   "execution_count": null,
   "metadata": {},
   "outputs": [],
   "source": []
  }
 ],
 "metadata": {
  "kernelspec": {
   "display_name": "base",
   "language": "python",
   "name": "python3"
  },
  "language_info": {
   "codemirror_mode": {
    "name": "ipython",
    "version": 3
   },
   "file_extension": ".py",
   "mimetype": "text/x-python",
   "name": "python",
   "nbconvert_exporter": "python",
   "pygments_lexer": "ipython3",
   "version": "3.11.10"
  }
 },
 "nbformat": 4,
 "nbformat_minor": 2
}
