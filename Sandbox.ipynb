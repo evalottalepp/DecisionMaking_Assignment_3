{
 "cells": [
  {
   "cell_type": "code",
   "execution_count": 91,
   "metadata": {},
   "outputs": [],
   "source": [
    "import pandas as pd\n",
    "import numpy as np\n",
    "\n",
    "\n",
    "class demandFile():\n",
    "    def __init__(self,path):\n",
    "        self.demandFile = pd.read_excel(path)\n",
    "        \n",
    "        supplyDemandCap = self.demandFile\n",
    "        supplyCols = [col for col in supplyDemandCap if col.startswith('Supply')]\n",
    "        demandCols = [col for col in supplyDemandCap if col.startswith('Demand')]\n",
    "\n",
    "        self.supply = supplyDemandCap[supplyCols ].dropna(axis=0, how='all').fillna(0).to_numpy()\n",
    "        self.P = [i for i in range(len(self.supply))]\n",
    "        \n",
    "        self.capacity = supplyDemandCap[~supplyDemandCap['Capacity'].isna()].dropna(axis=1)['Capacity'].fillna(0).to_numpy()\n",
    "        self.W = [i for i in range(len(self.capacity))]\n",
    "        self.capacity = np.concatenate((np.zeros(len(self.supply)), self.capacity))\n",
    "\n",
    "        self.demand = supplyDemandCap[demandCols].dropna(axis=0, how='all').to_numpy()\n",
    "        self.U = [i for i in range(len(self.demand))]\n",
    "        self.demand = np.concatenate((np.zeros([len(self.supply) + len(self.capacity),len(self.demand[0])]), self.demand))\n",
    "\n",
    "        \n",
    "\n",
    "        \n",
    "        \n",
    "    \n",
    "\n",
    "    def printFile(self):\n",
    "        print(self.demandFile)\n",
    "\n",
    "class fixedCost():\n",
    "    def __init__(self,path):\n",
    "        self.fixedCost = pd.read_excel(path)\n",
    "\n",
    "class varCost():\n",
    "    def __init__(self,path):\n",
    "        self.varCost = pd.read_excel(path)\n",
    "    def __repr__(self):\n",
    "        return print(self.varCost)\n",
    "    def __str__(self):\n",
    "        return 'file'\n",
    "        \n"
   ]
  },
  {
   "cell_type": "code",
   "execution_count": 92,
   "metadata": {},
   "outputs": [],
   "source": [
    "data = demandFile('./given_data/demanddata.xlsx')\n",
    "f = fixedCost('./given_data/fixedcosts.xlsx')\n",
    "c = varCost('./given_data/variablecosts.xlsx')"
   ]
  },
  {
   "cell_type": "code",
   "execution_count": 93,
   "metadata": {},
   "outputs": [
    {
     "data": {
      "text/plain": [
       "array([[0., 0., 0.],\n",
       "       [0., 0., 0.],\n",
       "       [0., 0., 0.]])"
      ]
     },
     "execution_count": 93,
     "metadata": {},
     "output_type": "execute_result"
    }
   ],
   "source": [
    "np.zeros([3,3])"
   ]
  },
  {
   "cell_type": "code",
   "execution_count": 96,
   "metadata": {},
   "outputs": [
    {
     "data": {
      "text/plain": [
       "array([[  0.,   0.,   0.,   0.,   0.,   0.],\n",
       "       [  0.,   0.,   0.,   0.,   0.,   0.],\n",
       "       [  0.,   0.,   0.,   0.,   0.,   0.],\n",
       "       [  0.,   0.,   0.,   0.,   0.,   0.],\n",
       "       [  0.,   0.,   0.,   0.,   0.,   0.],\n",
       "       [  0.,   0.,   0.,   0.,   0.,   0.],\n",
       "       [  0.,   0.,   0.,   0.,   0.,   0.],\n",
       "       [  0.,   0.,   0.,   0.,   0.,   0.],\n",
       "       [  0.,   0.,   0.,   0.,   0.,   0.],\n",
       "       [  0.,   0.,   0.,   0.,   0.,   0.],\n",
       "       [  0.,   0.,   0.,   0.,   0.,   0.],\n",
       "       [ 30.,   0., 100.,   0.,   5.,  20.],\n",
       "       [ 20.,  10.,   0.,  50.,  15.,  20.],\n",
       "       [  0.,  10.,   0.,  50.,  10.,  20.],\n",
       "       [ 10.,  10.,   0.,   0.,  25.,  20.],\n",
       "       [ 40.,  20.,   0.,   0.,  40.,  20.]])"
      ]
     },
     "execution_count": 96,
     "metadata": {},
     "output_type": "execute_result"
    }
   ],
   "source": [
    "data.demand"
   ]
  },
  {
   "cell_type": "code",
   "execution_count": 97,
   "metadata": {},
   "outputs": [
    {
     "data": {
      "text/plain": [
       "array([  0.,   0.,   0., 400., 300., 200., 300., 200.])"
      ]
     },
     "execution_count": 97,
     "metadata": {},
     "output_type": "execute_result"
    }
   ],
   "source": [
    "data.capacity"
   ]
  },
  {
   "cell_type": "code",
   "execution_count": 98,
   "metadata": {},
   "outputs": [
    {
     "data": {
      "text/plain": [
       "array([[100., 100.,   0.,   0.,   0.,   0.],\n",
       "       [  0.,   0., 100., 100., 100.,   0.],\n",
       "       [  0.,   0.,   0.,   0.,   0., 100.]])"
      ]
     },
     "execution_count": 98,
     "metadata": {},
     "output_type": "execute_result"
    }
   ],
   "source": [
    "data.supply"
   ]
  },
  {
   "cell_type": "code",
   "execution_count": 104,
   "metadata": {},
   "outputs": [
    {
     "data": {
      "text/plain": [
       "[0, 1, 2, 3, 4, 5, 6, 7, 8, 9, 10, 11, 12, 13, 14, 15]"
      ]
     },
     "execution_count": 105,
     "metadata": {},
     "output_type": "execute_result"
    }
   ],
   "source": [
    "K = [i for i in range(len(data.demand))]\n",
    "K"
   ]
  },
  {
   "cell_type": "code",
   "execution_count": null,
   "metadata": {},
   "outputs": [],
   "source": []
  }
 ],
 "metadata": {
  "kernelspec": {
   "display_name": "base",
   "language": "python",
   "name": "python3"
  },
  "language_info": {
   "codemirror_mode": {
    "name": "ipython",
    "version": 3
   },
   "file_extension": ".py",
   "mimetype": "text/x-python",
   "name": "python",
   "nbconvert_exporter": "python",
   "pygments_lexer": "ipython3",
   "version": "3.11.10"
  }
 },
 "nbformat": 4,
 "nbformat_minor": 2
}
