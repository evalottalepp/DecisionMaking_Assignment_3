{
 "cells": [
  {
   "cell_type": "code",
   "execution_count": 91,
   "metadata": {},
   "outputs": [],
   "source": [
    "import pandas as pd\n",
    "import numpy as np\n",
    "\n",
    "\n",
    "class demandFile():\n",
    "    def __init__(self,path):\n",
    "        self.demandFile = pd.read_excel(path)\n",
    "        \n",
    "        supplyDemandCap = self.demandFile\n",
    "        supplyCols = [col for col in supplyDemandCap if col.startswith('Supply')]\n",
    "        demandCols = [col for col in supplyDemandCap if col.startswith('Demand')]\n",
    "\n",
    "        self.supply = supplyDemandCap[supplyCols ].dropna(axis=0, how='all').fillna(0).to_numpy()\n",
    "        self.P = [i for i in range(len(self.supply))]\n",
    "        \n",
    "        self.capacity = supplyDemandCap[~supplyDemandCap['Capacity'].isna()].dropna(axis=1)['Capacity'].fillna(0).to_numpy()\n",
    "        self.W = [i for i in range(len(self.capacity))]\n",
    "        self.capacity = np.concatenate((np.zeros(len(self.supply)), self.capacity))\n",
    "\n",
    "        self.demand = supplyDemandCap[demandCols].dropna(axis=0, how='all').to_numpy()\n",
    "        self.U = [i for i in range(len(self.demand))]\n",
    "        self.demand = np.concatenate((np.zeros([len(self.supply) + len(self.capacity),len(self.demand[0])]), self.demand))\n",
    "\n",
    "        \n",
    "\n",
    "        \n",
    "        \n",
    "    \n",
    "\n",
    "    def printFile(self):\n",
    "        print(self.demandFile)\n",
    "\n",
    "class fixedCost():\n",
    "    def __init__(self,path):\n",
    "        self.fixedCost = pd.read_excel(path)\n",
    "\n",
    "class varCost():\n",
    "    def __init__(self,path):\n",
    "        self.varCost = pd.read_excel(path)\n",
    "    def __repr__(self):\n",
    "        return print(self.varCost)\n",
    "    def __str__(self):\n",
    "        return 'file'\n",
    "        \n"
   ]
  },
  {
   "cell_type": "code",
   "execution_count": 92,
   "metadata": {},
   "outputs": [],
   "source": [
    "data = demandFile('./given_data/demanddata.xlsx')\n",
    "f = fixedCost('./given_data/fixedcosts.xlsx')\n",
    "c = varCost('./given_data/variablecosts.xlsx')"
   ]
  },
  {
   "cell_type": "code",
   "execution_count": 93,
   "metadata": {},
   "outputs": [
    {
     "data": {
      "text/plain": [
       "array([[0., 0., 0.],\n",
       "       [0., 0., 0.],\n",
       "       [0., 0., 0.]])"
      ]
     },
     "execution_count": 93,
     "metadata": {},
     "output_type": "execute_result"
    }
   ],
   "source": [
    "np.zeros([3,3])"
   ]
  },
  {
   "cell_type": "code",
   "execution_count": 96,
   "metadata": {},
   "outputs": [
    {
     "data": {
      "text/plain": [
       "array([[  0.,   0.,   0.,   0.,   0.,   0.],\n",
       "       [  0.,   0.,   0.,   0.,   0.,   0.],\n",
       "       [  0.,   0.,   0.,   0.,   0.,   0.],\n",
       "       [  0.,   0.,   0.,   0.,   0.,   0.],\n",
       "       [  0.,   0.,   0.,   0.,   0.,   0.],\n",
       "       [  0.,   0.,   0.,   0.,   0.,   0.],\n",
       "       [  0.,   0.,   0.,   0.,   0.,   0.],\n",
       "       [  0.,   0.,   0.,   0.,   0.,   0.],\n",
       "       [  0.,   0.,   0.,   0.,   0.,   0.],\n",
       "       [  0.,   0.,   0.,   0.,   0.,   0.],\n",
       "       [  0.,   0.,   0.,   0.,   0.,   0.],\n",
       "       [ 30.,   0., 100.,   0.,   5.,  20.],\n",
       "       [ 20.,  10.,   0.,  50.,  15.,  20.],\n",
       "       [  0.,  10.,   0.,  50.,  10.,  20.],\n",
       "       [ 10.,  10.,   0.,   0.,  25.,  20.],\n",
       "       [ 40.,  20.,   0.,   0.,  40.,  20.]])"
      ]
     },
     "execution_count": 96,
     "metadata": {},
     "output_type": "execute_result"
    }
   ],
   "source": [
    "data.demand"
   ]
  },
  {
   "cell_type": "code",
   "execution_count": 97,
   "metadata": {},
   "outputs": [
    {
     "data": {
      "text/plain": [
       "array([  0.,   0.,   0., 400., 300., 200., 300., 200.])"
      ]
     },
     "execution_count": 97,
     "metadata": {},
     "output_type": "execute_result"
    }
   ],
   "source": [
    "data.capacity"
   ]
  },
  {
   "cell_type": "code",
   "execution_count": 98,
   "metadata": {},
   "outputs": [
    {
     "data": {
      "text/plain": [
       "array([[100., 100.,   0.,   0.,   0.,   0.],\n",
       "       [  0.,   0., 100., 100., 100.,   0.],\n",
       "       [  0.,   0.,   0.,   0.,   0., 100.]])"
      ]
     },
     "execution_count": 98,
     "metadata": {},
     "output_type": "execute_result"
    }
   ],
   "source": [
    "data.supply"
   ]
  },
  {
   "cell_type": "code",
   "execution_count": 104,
   "metadata": {},
   "outputs": [
    {
     "data": {
      "text/plain": [
       "[0, 1, 2, 3, 4, 5, 6, 7, 8, 9, 10, 11, 12, 13, 14, 15]"
      ]
     },
     "execution_count": 105,
     "metadata": {},
     "output_type": "execute_result"
    }
   ],
   "source": [
    "K = [i for i in range(len(data.demand))]\n",
    "K"
   ]
  },
  {
   "cell_type": "code",
   "execution_count": 74,
   "metadata": {},
   "outputs": [
    {
     "name": "stdout",
     "output_type": "stream",
     "text": [
      "[5]\n"
     ]
    }
   ],
   "source": [
    "import itertools\n",
    "import numpy as np\n",
    "#print(list(itertools.permutations('56789', 5)))\n",
    "\n",
    "permutations = [''.join(sub) for sub in itertools.permutations('56789', 5)]  # all permutations of universities\n",
    "\n",
    "ordered_total_costs = dict.fromkeys(permutations, np.zeros(5))\n",
    "\n",
    "allP = [] \n",
    "for p in ordered_total_costs:\n",
    "    steps = [p[:i] for i in range(1, len(p) + 1)]\n",
    "    \n",
    "    # print(steps)\n",
    "    # for s in steps:\n",
    "    #     steps_int = [int(u) for u in np.array(s)]\n",
    "    #     print(steps_int)\n",
    "    #     for universities_in_tour in steps_int:\n",
    "    #         print(universities_in_tour)\n",
    "\n",
    "    allSubsections = []\n",
    "    for s in steps:\n",
    "        subList = []\n",
    "        for i in range(len(s)):\n",
    "            subList.append(int(s[i]))\n",
    "        allSubsections.append(subList)\n",
    "    allP.append(allSubsections)\n"
   ]
  },
  {
   "cell_type": "code",
   "execution_count": 91,
   "metadata": {},
   "outputs": [
    {
     "data": {
      "text/plain": [
       "array([[  0.,   0.,   0.,   0.,   0.,   0.],\n",
       "       [  0.,   0.,   0.,   0.,   0.,   0.],\n",
       "       [  0.,   0.,   0.,   0.,   0.,   0.],\n",
       "       [  0.,   0.,   0.,   0.,   0.,   0.],\n",
       "       [  0.,   0.,   0.,   0.,   0.,   0.],\n",
       "       [  0.,   0.,   0.,   0.,   0.,   0.],\n",
       "       [  0.,   0.,   0.,   0.,   0.,   0.],\n",
       "       [  0.,   0.,   0.,   0.,   0.,   0.],\n",
       "       [ 30.,   0., 100.,   0.,   5.,  20.],\n",
       "       [ 20.,  10.,   0.,  50.,  15.,  20.],\n",
       "       [  0.,  10.,   0.,  50.,  10.,  20.],\n",
       "       [ 10.,  10.,   0.,   0.,  25.,  20.],\n",
       "       [ 40.,  20.,   0.,   0.,  40.,  20.]])"
      ]
     },
     "execution_count": 91,
     "metadata": {},
     "output_type": "execute_result"
    }
   ],
   "source": [
    "demandData.demand"
   ]
  },
  {
   "cell_type": "code",
   "execution_count": 93,
   "metadata": {},
   "outputs": [
    {
     "data": {
      "text/plain": [
       "array([[0., 0., 0., 0., 0., 0.],\n",
       "       [0., 0., 0., 0., 0., 0.],\n",
       "       [0., 0., 0., 0., 0., 0.],\n",
       "       [0., 0., 0., 0., 0., 0.],\n",
       "       [0., 0., 0., 0., 0., 0.],\n",
       "       [0., 0., 0., 0., 0., 0.],\n",
       "       [0., 0., 0., 0., 0., 0.],\n",
       "       [0., 0., 0., 0., 0., 0.],\n",
       "       [0., 0., 0., 0., 0., 0.],\n",
       "       [0., 0., 0., 0., 0., 0.],\n",
       "       [0., 0., 0., 0., 0., 0.],\n",
       "       [0., 0., 0., 0., 0., 0.],\n",
       "       [0., 0., 0., 0., 0., 0.]])"
      ]
     },
     "execution_count": 93,
     "metadata": {},
     "output_type": "execute_result"
    }
   ],
   "source": [
    "np.zeros_like(demandData.demand)"
   ]
  },
  {
   "cell_type": "code",
   "execution_count": 97,
   "metadata": {},
   "outputs": [],
   "source": [
    "half = np.ones_like(demandData.demand)*0.5"
   ]
  },
  {
   "cell_type": "code",
   "execution_count": 98,
   "metadata": {},
   "outputs": [],
   "source": [
    "tens = np.array([[0., 0., 0., 0., 0., 0.],\n",
    "       [0., 0., 0., 0., 0., 0.],\n",
    "       [0., 0., 0., 0., 0., 0.],\n",
    "       [0., 0., 0., 0., 0., 0.],\n",
    "       [0., 0., 0., 0., 0., 0.],\n",
    "       [0., 0., 0., 0., 0., 0.],\n",
    "       [0., 0., 0., 0., 0., 0.],\n",
    "       [10., 10., 10., 10., 10., 10.],\n",
    "       [0., 0., 0., 0., 0., 0.],\n",
    "       [0., 0., 0., 0., 0., 0.],\n",
    "       [0., 0., 0., 0., 0., 0.],\n",
    "       [0., 0., 0., 0., 0., 0.],\n",
    "       [0., 0., 0., 0., 0., 0.]])"
   ]
  },
  {
   "cell_type": "code",
   "execution_count": 99,
   "metadata": {},
   "outputs": [
    {
     "data": {
      "text/plain": [
       "array([[0., 0., 0., 0., 0., 0.],\n",
       "       [0., 0., 0., 0., 0., 0.],\n",
       "       [0., 0., 0., 0., 0., 0.],\n",
       "       [0., 0., 0., 0., 0., 0.],\n",
       "       [0., 0., 0., 0., 0., 0.],\n",
       "       [0., 0., 0., 0., 0., 0.],\n",
       "       [0., 0., 0., 0., 0., 0.],\n",
       "       [5., 5., 5., 5., 5., 5.],\n",
       "       [0., 0., 0., 0., 0., 0.],\n",
       "       [0., 0., 0., 0., 0., 0.],\n",
       "       [0., 0., 0., 0., 0., 0.],\n",
       "       [0., 0., 0., 0., 0., 0.],\n",
       "       [0., 0., 0., 0., 0., 0.]])"
      ]
     },
     "execution_count": 99,
     "metadata": {},
     "output_type": "execute_result"
    }
   ],
   "source": [
    "tens * half"
   ]
  },
  {
   "cell_type": "code",
   "execution_count": 103,
   "metadata": {},
   "outputs": [
    {
     "data": {
      "text/plain": [
       "[5, 6, 7]"
      ]
     },
     "execution_count": 103,
     "metadata": {},
     "output_type": "execute_result"
    }
   ],
   "source": [
    "demandData.W[2:]"
   ]
  },
  {
   "cell_type": "code",
   "execution_count": 123,
   "metadata": {},
   "outputs": [],
   "source": [
    "varCost = pd.read_excel('./given_data/variablecosts.xlsx').iloc[:,1:].to_numpy()"
   ]
  },
  {
   "cell_type": "code",
   "execution_count": 125,
   "metadata": {},
   "outputs": [],
   "source": [
    "fixedCost = pd.read_excel('./given_data/fixedcosts.xlsx').to_numpy()\n"
   ]
  },
  {
   "cell_type": "code",
   "execution_count": 126,
   "metadata": {},
   "outputs": [
    {
     "data": {
      "text/plain": [
       "array([['P1', 12.5, 19.63008577301995, 20.586027923844426,\n",
       "        14.4812827494399, 24.12524615696096, 15.03713661132247,\n",
       "        19.830266518182388, 14.355268240455386, 25.692515671359217,\n",
       "        21.591933296470955, 17.50252855970261, 21.586991007514534,\n",
       "        20.657149137020514],\n",
       "       ['P2', 19.63008577301995, 12.5, 15.86420295379256,\n",
       "        20.68188207229072, 17.362218431873757, 20.637692807175586,\n",
       "        14.788181277265661, 18.289323938457287, 18.56446684742604,\n",
       "        18.611956717974937, 16.557731048950487, 17.503247772988324,\n",
       "        17.756442237342355],\n",
       "       ['P3', 20.586027923844426, 15.86420295379256, 12.5,\n",
       "        20.859080543744327, 16.650804629012406, 20.534213238575994,\n",
       "        18.152370599365515, 18.799565895181356, 19.340103715472036,\n",
       "        15.31098296891217, 19.40823142454645, 14.142714846067813,\n",
       "        21.111872824262896],\n",
       "       ['W1', 14.4812827494399, 20.68188207229072, 20.859080543744327,\n",
       "        12.5, 24.751585764964233, 13.207884367462533, 21.31576339698733,\n",
       "        14.896655141505688, 26.68678150299474, 21.23479898371933,\n",
       "        19.280236911726735, 21.537230993405277, 22.488488269940646],\n",
       "       ['W2', 24.12524615696096, 17.362218431873757, 16.650804629012406,\n",
       "        24.751585764964233, 12.5, 24.512240049179024, 18.904650345842555,\n",
       "        22.50110267457053, 15.639651761593775, 18.464744744370172,\n",
       "        21.35305027028395, 17.10668524092878, 21.60070293179539],\n",
       "       ['C1', 15.03713661132247, 20.637692807175586, 20.534213238575994,\n",
       "        13.207884367462533, 24.512240049179024, 12.5, 21.451646952717347,\n",
       "        14.960354403835503, 26.574177233946585, 20.72013003872548,\n",
       "        19.59298282944725, 21.105612750079096, 22.81446338897499],\n",
       "       ['C2', 19.830266518182388, 14.788181277265661, 18.152370599365515,\n",
       "        21.31576339698733, 18.904650345842555, 21.451646952717347, 12.5,\n",
       "        18.991305032176015, 19.05954915718661, 20.884906469597595,\n",
       "        15.342818520170429, 19.791039482875526, 15.483905393088271],\n",
       "       ['C3', 14.355268240455386, 18.289323938457287, 18.799565895181356,\n",
       "        14.896655141505688, 22.50110267457053, 14.960354403835503,\n",
       "        18.991305032176015, 12.5, 24.31365906100715, 19.741897634306543,\n",
       "        17.265266950307, 19.740780630678138, 20.47409821425081],\n",
       "       ['U1', 25.692515671359217, 18.56446684742604, 19.340103715472036,\n",
       "        26.68678150299474, 15.639651761593775, 26.574177233946585,\n",
       "        19.05954915718661, 24.31365906100715, 12.5, 21.524582270633452,\n",
       "        21.880589425073538, 20.131676213224623, 21.004657135073202],\n",
       "       ['U2', 21.591933296470955, 18.611956717974937, 15.31098296891217,\n",
       "        21.23479898371933, 18.464744744370172, 20.72013003872548,\n",
       "        20.884906469597595, 19.741897634306543, 21.524582270633452, 12.5,\n",
       "        21.73681908869679, 13.909631442173538, 23.798000177446717],\n",
       "       ['U3', 17.50252855970261, 16.557731048950487, 19.40823142454645,\n",
       "        19.280236911726735, 21.35305027028395, 19.59298282944725,\n",
       "        15.342818520170429, 17.265266950307, 21.880589425073538,\n",
       "        21.73681908869679, 12.5, 20.97847872472724, 15.721940466172503],\n",
       "       ['U4', 21.586991007514534, 17.503247772988324, 14.142714846067813,\n",
       "        21.537230993405277, 17.10668524092878, 21.105612750079096,\n",
       "        19.791039482875526, 19.740780630678138, 20.131676213224623,\n",
       "        13.909631442173538, 20.97847872472724, 12.5, 22.754151309703314],\n",
       "       ['U5', 20.657149137020514, 17.756442237342355, 21.111872824262896,\n",
       "        22.488488269940646, 21.60070293179539, 22.81446338897499,\n",
       "        15.483905393088271, 20.47409821425081, 21.004657135073202,\n",
       "        23.798000177446717, 15.721940466172503, 22.754151309703314, 12.5]],\n",
       "      dtype=object)"
      ]
     },
     "execution_count": 126,
     "metadata": {},
     "output_type": "execute_result"
    }
   ],
   "source": [
    "fixedCost"
   ]
  }
 ],
 "metadata": {
  "kernelspec": {
   "display_name": "decision-making",
   "language": "python",
   "name": "python3"
  },
  "language_info": {
   "codemirror_mode": {
    "name": "ipython",
    "version": 3
   },
   "file_extension": ".py",
   "mimetype": "text/x-python",
   "name": "python",
   "nbconvert_exporter": "python",
   "pygments_lexer": "ipython3",
   "version": "3.12.7"
  }
 },
 "nbformat": 4,
 "nbformat_minor": 2
}
